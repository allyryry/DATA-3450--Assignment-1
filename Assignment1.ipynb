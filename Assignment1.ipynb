{
 "cells": [
  {
   "cell_type": "code",
   "execution_count": 76,
   "source": [
    "import pandas as pd\r\n",
    "import numpy as np\r\n",
    "import seaborn as sns\r\n",
    "import thinkstats2\r\n",
    "import thinkplot\r\n",
    "import matplotlib as plt"
   ],
   "outputs": [],
   "metadata": {}
  },
  {
   "cell_type": "code",
   "execution_count": 77,
   "source": [
    "df = pd.read_csv(\"LabourTrainingEvaluationData.csv\")\r\n",
    "df.head()"
   ],
   "outputs": [
    {
     "output_type": "execute_result",
     "data": {
      "text/html": [
       "<div>\n",
       "<style scoped>\n",
       "    .dataframe tbody tr th:only-of-type {\n",
       "        vertical-align: middle;\n",
       "    }\n",
       "\n",
       "    .dataframe tbody tr th {\n",
       "        vertical-align: top;\n",
       "    }\n",
       "\n",
       "    .dataframe thead th {\n",
       "        text-align: right;\n",
       "    }\n",
       "</style>\n",
       "<table border=\"1\" class=\"dataframe\">\n",
       "  <thead>\n",
       "    <tr style=\"text-align: right;\">\n",
       "      <th></th>\n",
       "      <th>Age</th>\n",
       "      <th>Eduacation</th>\n",
       "      <th>Race</th>\n",
       "      <th>Hisp</th>\n",
       "      <th>MaritalStatus</th>\n",
       "      <th>Nodeg</th>\n",
       "      <th>Earnings_1974</th>\n",
       "      <th>Earnings_1975</th>\n",
       "      <th>Earnings_1978</th>\n",
       "    </tr>\n",
       "  </thead>\n",
       "  <tbody>\n",
       "    <tr>\n",
       "      <th>0</th>\n",
       "      <td>45</td>\n",
       "      <td>LessThanHighSchool</td>\n",
       "      <td>NotBlack</td>\n",
       "      <td>NotHispanic</td>\n",
       "      <td>Married</td>\n",
       "      <td>1</td>\n",
       "      <td>21516.670</td>\n",
       "      <td>25243.550</td>\n",
       "      <td>25564.670</td>\n",
       "    </tr>\n",
       "    <tr>\n",
       "      <th>1</th>\n",
       "      <td>21</td>\n",
       "      <td>Intermediate</td>\n",
       "      <td>NotBlack</td>\n",
       "      <td>NotHispanic</td>\n",
       "      <td>NotMarried</td>\n",
       "      <td>0</td>\n",
       "      <td>3175.971</td>\n",
       "      <td>5852.565</td>\n",
       "      <td>13496.080</td>\n",
       "    </tr>\n",
       "    <tr>\n",
       "      <th>2</th>\n",
       "      <td>38</td>\n",
       "      <td>HighSchool</td>\n",
       "      <td>NotBlack</td>\n",
       "      <td>NotHispanic</td>\n",
       "      <td>Married</td>\n",
       "      <td>0</td>\n",
       "      <td>23039.020</td>\n",
       "      <td>25130.760</td>\n",
       "      <td>25564.670</td>\n",
       "    </tr>\n",
       "    <tr>\n",
       "      <th>3</th>\n",
       "      <td>48</td>\n",
       "      <td>LessThanHighSchool</td>\n",
       "      <td>NotBlack</td>\n",
       "      <td>NotHispanic</td>\n",
       "      <td>Married</td>\n",
       "      <td>1</td>\n",
       "      <td>24994.370</td>\n",
       "      <td>25243.550</td>\n",
       "      <td>25564.670</td>\n",
       "    </tr>\n",
       "    <tr>\n",
       "      <th>4</th>\n",
       "      <td>18</td>\n",
       "      <td>LessThanHighSchool</td>\n",
       "      <td>NotBlack</td>\n",
       "      <td>NotHispanic</td>\n",
       "      <td>Married</td>\n",
       "      <td>1</td>\n",
       "      <td>1669.295</td>\n",
       "      <td>10727.610</td>\n",
       "      <td>9860.869</td>\n",
       "    </tr>\n",
       "  </tbody>\n",
       "</table>\n",
       "</div>"
      ],
      "text/plain": [
       "   Age          Eduacation      Race         Hisp MaritalStatus  Nodeg  \\\n",
       "0   45  LessThanHighSchool  NotBlack  NotHispanic       Married      1   \n",
       "1   21        Intermediate  NotBlack  NotHispanic    NotMarried      0   \n",
       "2   38          HighSchool  NotBlack  NotHispanic       Married      0   \n",
       "3   48  LessThanHighSchool  NotBlack  NotHispanic       Married      1   \n",
       "4   18  LessThanHighSchool  NotBlack  NotHispanic       Married      1   \n",
       "\n",
       "   Earnings_1974  Earnings_1975  Earnings_1978  \n",
       "0      21516.670      25243.550      25564.670  \n",
       "1       3175.971       5852.565      13496.080  \n",
       "2      23039.020      25130.760      25564.670  \n",
       "3      24994.370      25243.550      25564.670  \n",
       "4       1669.295      10727.610       9860.869  "
      ]
     },
     "metadata": {},
     "execution_count": 77
    }
   ],
   "metadata": {}
  },
  {
   "cell_type": "code",
   "execution_count": 78,
   "source": [
    "df.describe()"
   ],
   "outputs": [
    {
     "output_type": "execute_result",
     "data": {
      "text/html": [
       "<div>\n",
       "<style scoped>\n",
       "    .dataframe tbody tr th:only-of-type {\n",
       "        vertical-align: middle;\n",
       "    }\n",
       "\n",
       "    .dataframe tbody tr th {\n",
       "        vertical-align: top;\n",
       "    }\n",
       "\n",
       "    .dataframe thead th {\n",
       "        text-align: right;\n",
       "    }\n",
       "</style>\n",
       "<table border=\"1\" class=\"dataframe\">\n",
       "  <thead>\n",
       "    <tr style=\"text-align: right;\">\n",
       "      <th></th>\n",
       "      <th>Age</th>\n",
       "      <th>Nodeg</th>\n",
       "      <th>Earnings_1974</th>\n",
       "      <th>Earnings_1975</th>\n",
       "      <th>Earnings_1978</th>\n",
       "    </tr>\n",
       "  </thead>\n",
       "  <tbody>\n",
       "    <tr>\n",
       "      <th>count</th>\n",
       "      <td>15992.000000</td>\n",
       "      <td>15992.000000</td>\n",
       "      <td>15992.000000</td>\n",
       "      <td>15992.000000</td>\n",
       "      <td>15992.000000</td>\n",
       "    </tr>\n",
       "    <tr>\n",
       "      <th>mean</th>\n",
       "      <td>33.225238</td>\n",
       "      <td>0.295835</td>\n",
       "      <td>14016.800304</td>\n",
       "      <td>13650.803376</td>\n",
       "      <td>14846.659673</td>\n",
       "    </tr>\n",
       "    <tr>\n",
       "      <th>std</th>\n",
       "      <td>11.045216</td>\n",
       "      <td>0.456432</td>\n",
       "      <td>9569.795893</td>\n",
       "      <td>9270.403225</td>\n",
       "      <td>9647.391524</td>\n",
       "    </tr>\n",
       "    <tr>\n",
       "      <th>min</th>\n",
       "      <td>16.000000</td>\n",
       "      <td>0.000000</td>\n",
       "      <td>0.000000</td>\n",
       "      <td>0.000000</td>\n",
       "      <td>0.000000</td>\n",
       "    </tr>\n",
       "    <tr>\n",
       "      <th>25%</th>\n",
       "      <td>24.000000</td>\n",
       "      <td>0.000000</td>\n",
       "      <td>4403.452250</td>\n",
       "      <td>4398.823000</td>\n",
       "      <td>5669.298000</td>\n",
       "    </tr>\n",
       "    <tr>\n",
       "      <th>50%</th>\n",
       "      <td>31.000000</td>\n",
       "      <td>0.000000</td>\n",
       "      <td>15123.580000</td>\n",
       "      <td>14557.110000</td>\n",
       "      <td>16421.975000</td>\n",
       "    </tr>\n",
       "    <tr>\n",
       "      <th>75%</th>\n",
       "      <td>42.000000</td>\n",
       "      <td>1.000000</td>\n",
       "      <td>23584.180000</td>\n",
       "      <td>22923.737500</td>\n",
       "      <td>25564.670000</td>\n",
       "    </tr>\n",
       "    <tr>\n",
       "      <th>max</th>\n",
       "      <td>55.000000</td>\n",
       "      <td>1.000000</td>\n",
       "      <td>25862.320000</td>\n",
       "      <td>25243.550000</td>\n",
       "      <td>25564.670000</td>\n",
       "    </tr>\n",
       "  </tbody>\n",
       "</table>\n",
       "</div>"
      ],
      "text/plain": [
       "                Age         Nodeg  Earnings_1974  Earnings_1975  Earnings_1978\n",
       "count  15992.000000  15992.000000   15992.000000   15992.000000   15992.000000\n",
       "mean      33.225238      0.295835   14016.800304   13650.803376   14846.659673\n",
       "std       11.045216      0.456432    9569.795893    9270.403225    9647.391524\n",
       "min       16.000000      0.000000       0.000000       0.000000       0.000000\n",
       "25%       24.000000      0.000000    4403.452250    4398.823000    5669.298000\n",
       "50%       31.000000      0.000000   15123.580000   14557.110000   16421.975000\n",
       "75%       42.000000      1.000000   23584.180000   22923.737500   25564.670000\n",
       "max       55.000000      1.000000   25862.320000   25243.550000   25564.670000"
      ]
     },
     "metadata": {},
     "execution_count": 78
    }
   ],
   "metadata": {}
  },
  {
   "cell_type": "markdown",
   "source": [
    "AGE"
   ],
   "metadata": {}
  },
  {
   "cell_type": "code",
   "execution_count": 79,
   "source": [
    "age = pd.Series(df[\"Age\"])\r\n",
    "age.describe()"
   ],
   "outputs": [
    {
     "output_type": "execute_result",
     "data": {
      "text/plain": [
       "count    15992.000000\n",
       "mean        33.225238\n",
       "std         11.045216\n",
       "min         16.000000\n",
       "25%         24.000000\n",
       "50%         31.000000\n",
       "75%         42.000000\n",
       "max         55.000000\n",
       "Name: Age, dtype: float64"
      ]
     },
     "metadata": {},
     "execution_count": 79
    }
   ],
   "metadata": {}
  },
  {
   "cell_type": "code",
   "execution_count": 80,
   "source": [
    "#Make and plot a Hist and Pmf for age.\r\n",
    "hist = thinkstats2.Hist(age)\r\n",
    "pmf = thinkstats2.Pmf(age)"
   ],
   "outputs": [],
   "metadata": {}
  },
  {
   "cell_type": "code",
   "execution_count": 81,
   "source": [
    "thinkplot.PrePlot(3, cols=3)\r\n",
    "thinkplot.Hist(hist, color=\"cyan\")\r\n",
    "thinkplot.SubPlot(2)\r\n",
    "thinkplot.Pmf(pmf, color=\"magenta\")\r\n",
    "thinkplot.Config()"
   ],
   "outputs": [
    {
     "output_type": "display_data",
     "data": {
      "image/png": "[encoded data removed]",
      "text/plain": [
       "<Figure size 864x432 with 2 Axes>"
      ]
     },
     "metadata": {
      "needs_background": "light"
     }
    }
   ],
   "metadata": {}
  },
  {
   "cell_type": "code",
   "execution_count": 82,
   "source": [
    "#What fraction of the people in the data are 51? \r\n",
    "fiftyone= pmf.Prob(51)\r\n",
    "fiftyone"
   ],
   "outputs": [
    {
     "output_type": "execute_result",
     "data": {
      "text/plain": [
       "0.01963481740870435"
      ]
     },
     "metadata": {},
     "execution_count": 82
    }
   ],
   "metadata": {}
  },
  {
   "cell_type": "code",
   "execution_count": 83,
   "source": [
    "#What fraction are older than 51?\r\n",
    "df_over51 = df[df[\"Age\"] > 51]\r\n",
    "len(df_over51)/len(age)"
   ],
   "outputs": [
    {
     "output_type": "execute_result",
     "data": {
      "text/plain": [
       "0.07322411205602801"
      ]
     },
     "metadata": {},
     "execution_count": 83
    }
   ],
   "metadata": {}
  },
  {
   "cell_type": "code",
   "execution_count": 84,
   "source": [
    "#What is the median age?\r\n",
    "age.median() \r\n"
   ],
   "outputs": [
    {
     "output_type": "execute_result",
     "data": {
      "text/plain": [
       "31.0"
      ]
     },
     "metadata": {},
     "execution_count": 84
    }
   ],
   "metadata": {}
  },
  {
   "cell_type": "markdown",
   "source": [
    "#Does the distribution of the sample data seem to mirror the working age population?\r\n",
    "No I would say this does not mirror the working age population as lots of boomers are working into their \r\n",
    "70s now. I dont know where you could even find a workplace where the oldest person is 55. \r\n",
    "Maybe a dispensary or something. But no this is definitely a lot younger than the current working population.\r\n"
   ],
   "metadata": {}
  },
  {
   "cell_type": "markdown",
   "source": [
    "DEMOGRAPHICS"
   ],
   "metadata": {}
  },
  {
   "cell_type": "code",
   "execution_count": 85,
   "source": [
    "df.columns"
   ],
   "outputs": [
    {
     "output_type": "execute_result",
     "data": {
      "text/plain": [
       "Index(['Age', 'Eduacation', 'Race', 'Hisp', 'MaritalStatus', 'Nodeg',\n",
       "       'Earnings_1974', 'Earnings_1975', 'Earnings_1978'],\n",
       "      dtype='object')"
      ]
     },
     "metadata": {},
     "execution_count": 85
    }
   ],
   "metadata": {}
  },
  {
   "cell_type": "code",
   "execution_count": 86,
   "source": [
    "hs = df[df[\"Eduacation\"] != \"LessThanHighSchool\"]\r\n",
    "df[\"Eduacation\"].value_counts()"
   ],
   "outputs": [
    {
     "output_type": "execute_result",
     "data": {
      "text/plain": [
       "HighSchool            6252\n",
       "LessThanHighSchool    4731\n",
       "Intermediate          2708\n",
       "graduate              1367\n",
       "PostGraduate           934\n",
       "Name: Eduacation, dtype: int64"
      ]
     },
     "metadata": {},
     "execution_count": 86
    }
   ],
   "metadata": {}
  },
  {
   "cell_type": "code",
   "execution_count": 87,
   "source": [
    "hs[\"Eduacation\"].value_counts()"
   ],
   "outputs": [
    {
     "output_type": "execute_result",
     "data": {
      "text/plain": [
       "HighSchool      6252\n",
       "Intermediate    2708\n",
       "graduate        1367\n",
       "PostGraduate     934\n",
       "Name: Eduacation, dtype: int64"
      ]
     },
     "metadata": {},
     "execution_count": 87
    }
   ],
   "metadata": {}
  },
  {
   "cell_type": "code",
   "execution_count": 106,
   "source": [
    "not_hisp = df[df[\"Hisp\"] == \"NotHispanic\"]\r\n",
    "hispanic = df[df[\"Hisp\"] == \"hispanic\"]\r\n",
    "df[\"Hisp\"].value_counts()"
   ],
   "outputs": [
    {
     "output_type": "execute_result",
     "data": {
      "text/plain": [
       "NotHispanic    14840\n",
       "hispanic        1152\n",
       "Name: Hisp, dtype: int64"
      ]
     },
     "metadata": {},
     "execution_count": 106
    }
   ],
   "metadata": {}
  },
  {
   "cell_type": "code",
   "execution_count": 89,
   "source": [
    "not_black = df[df[\"Race\"] == \"NotBlack\"]\r\n",
    "black = df[df[\"Race\"]== \"black\"]\r\n",
    "df[\"Race\"].value_counts()"
   ],
   "outputs": [
    {
     "output_type": "execute_result",
     "data": {
      "text/plain": [
       "NotBlack    14816\n",
       "black        1176\n",
       "Name: Race, dtype: int64"
      ]
     },
     "metadata": {},
     "execution_count": 89
    }
   ],
   "metadata": {}
  },
  {
   "cell_type": "code",
   "execution_count": 90,
   "source": [
    "single = df[df[\"MaritalStatus\"] == \"NotMarried\"]\r\n",
    "married = df[df[\"MaritalStatus\"] == \"Married\"]\r\n",
    "df[\"MaritalStatus\"].value_counts()"
   ],
   "outputs": [
    {
     "output_type": "execute_result",
     "data": {
      "text/plain": [
       "Married       11382\n",
       "NotMarried     4610\n",
       "Name: MaritalStatus, dtype: int64"
      ]
     },
     "metadata": {},
     "execution_count": 90
    }
   ],
   "metadata": {}
  },
  {
   "cell_type": "code",
   "execution_count": 91,
   "source": [
    "degree = df[df[\"Nodeg\"] == False]\r\n",
    "no_degree = df[df[\"Nodeg\"] == True]\r\n",
    "df[\"Nodeg\"].value_counts()"
   ],
   "outputs": [
    {
     "output_type": "execute_result",
     "data": {
      "text/plain": [
       "0    11261\n",
       "1     4731\n",
       "Name: Nodeg, dtype: int64"
      ]
     },
     "metadata": {},
     "execution_count": 91
    }
   ],
   "metadata": {}
  },
  {
   "cell_type": "code",
   "execution_count": 107,
   "source": [
    "#%s of people \r\n",
    "print(\"% that are Black:\", len(black)/len(df))\r\n",
    "print(\"% that are Hispanic:\", len(hispanic)/len(df))\r\n",
    "print(\"% that are married:\", len(married)/len(df))\r\n",
    "print(\"% that are have at least finished high school:\", len(hs)/len(df))\r\n",
    "print(\"% that they do not have a demographic for:\", len(no_degree)/len(df))\r\n",
    "\r\n"
   ],
   "outputs": [
    {
     "output_type": "stream",
     "name": "stdout",
     "text": [
      "% that are Black: 0.0735367683841921\n",
      "% that are Hispanic: 0.0720360180090045\n",
      "% that are married: 0.7117308654327164\n",
      "% that are have at least finished high school: 0.7041645822911455\n",
      "% that they do not have a demographic for: 0.2958354177088544\n"
     ]
    }
   ],
   "metadata": {}
  },
  {
   "cell_type": "markdown",
   "source": [
    "https://www.census.gov/quickfacts/fact/table/US/RHI725219\r\n",
    "According the the US census in 2019, the black population is 13.4% and hispanic is 18.5%. So the dataset isn't very representative in that matter. They could stand to do some diversity hiring. \r\n",
    "For education it says 88% of Americans have at least a high school education but in the dataset it is only 70%. So their workforce has less schooling than is representative of the US population.\r\n",
    "https://www.statista.com/statistics/242030/marital-status-of-the-us-population-by-sex/\r\n",
    "About 69% of the US population is married as of 2020. The data is representative of that and only off by about 2%. \r\n",
    "The people with no demographic can also be affecting things. 30% of the people that work there have no demographic information. If a large chunk were Hispanic then that could bring up their hispanic % to more like the current US population. If they are white then that makes 68% of the dataset is white. 60% of the US is white alone. "
   ],
   "metadata": {}
  },
  {
   "cell_type": "markdown",
   "source": [
    "EARNINGS"
   ],
   "metadata": {}
  },
  {
   "cell_type": "code",
   "execution_count": 93,
   "source": [
    "hist74 = thinkstats2.Hist(\"Earnings_1974\")\r\n",
    "hist75 = thinkstats2.Hist(\"Earnings_1975\")\r\n",
    "hist78 = thinkstats2.Hist(\"Earnings_1978\")"
   ],
   "outputs": [],
   "metadata": {}
  },
  {
   "cell_type": "code",
   "execution_count": 94,
   "source": [
    "thinkplot.PrePlot(3, cols=3)\r\n",
    "thinkplot.Hist(hist74)\r\n",
    "thinkplot.SubPlot(2)\r\n",
    "thinkplot.Hist(hist75)\r\n",
    "thinkplot.SubPlot(3)\r\n",
    "thinkplot.Hist(hist78)\r\n",
    "thinkplot.Config()"
   ],
   "outputs": [
    {
     "output_type": "display_data",
     "data": {
      "image/png": "[encoded data removed]",
      "text/plain": [
       "<Figure size 864x432 with 3 Axes>"
      ]
     },
     "metadata": {
      "needs_background": "light"
     }
    }
   ],
   "metadata": {}
  },
  {
   "cell_type": "code",
   "execution_count": 95,
   "source": [
    "#plot 3 earnings\r\n",
    "sns.distplot(df[\"Earnings_1974\"], kde_kws={\"label\":\"Value\"}, hist_kws={\"label\":\"Value\"}, color=\"green\")\r\n",
    "sns.distplot(df[\"Earnings_1975\"], kde_kws={\"label\":\"Value\"}, hist_kws={\"label\":\"Value\"}, color=\"blue\")\r\n",
    "sns.distplot(df[\"Earnings_1978\"], kde_kws={\"label\":\"Value\"}, hist_kws={\"label\":\"Value\"}, color=\"red\")"
   ],
   "outputs": [
    {
     "output_type": "stream",
     "name": "stderr",
     "text": [
      "C:\\Users\\allyr\\anaconda3\\lib\\site-packages\\seaborn\\distributions.py:2557: FutureWarning: `distplot` is a deprecated function and will be removed in a future version. Please adapt your code to use either `displot` (a figure-level function with similar flexibility) or `histplot` (an axes-level function for histograms).\n",
      "  warnings.warn(msg, FutureWarning)\n",
      "C:\\Users\\allyr\\anaconda3\\lib\\site-packages\\seaborn\\distributions.py:2557: FutureWarning: `distplot` is a deprecated function and will be removed in a future version. Please adapt your code to use either `displot` (a figure-level function with similar flexibility) or `histplot` (an axes-level function for histograms).\n",
      "  warnings.warn(msg, FutureWarning)\n",
      "C:\\Users\\allyr\\anaconda3\\lib\\site-packages\\seaborn\\distributions.py:2557: FutureWarning: `distplot` is a deprecated function and will be removed in a future version. Please adapt your code to use either `displot` (a figure-level function with similar flexibility) or `histplot` (an axes-level function for histograms).\n",
      "  warnings.warn(msg, FutureWarning)\n"
     ]
    },
    {
     "output_type": "execute_result",
     "data": {
      "text/plain": [
       "<AxesSubplot:xlabel='Earnings_1978', ylabel='Density'>"
      ]
     },
     "metadata": {},
     "execution_count": 95
    },
    {
     "output_type": "display_data",
     "data": {
      "image/png": "[encoded data removed]",
      "text/plain": [
       "<Figure size 432x288 with 1 Axes>"
      ]
     },
     "metadata": {
      "needs_background": "light"
     }
    }
   ],
   "metadata": {}
  },
  {
   "cell_type": "code",
   "execution_count": 96,
   "source": [
    "df[\"Earnings_1974\"].value_counts().tail()\r\n",
    "df[\"Earnings_1974\"].describe()"
   ],
   "outputs": [
    {
     "output_type": "execute_result",
     "data": {
      "text/plain": [
       "count    15992.000000\n",
       "mean     14016.800304\n",
       "std       9569.795893\n",
       "min          0.000000\n",
       "25%       4403.452250\n",
       "50%      15123.580000\n",
       "75%      23584.180000\n",
       "max      25862.320000\n",
       "Name: Earnings_1974, dtype: float64"
      ]
     },
     "metadata": {},
     "execution_count": 96
    }
   ],
   "metadata": {}
  },
  {
   "cell_type": "code",
   "execution_count": 97,
   "source": [
    "df[\"Earnings_1978\"].value_counts().sort_values(ascending=True)"
   ],
   "outputs": [
    {
     "output_type": "execute_result",
     "data": {
      "text/plain": [
       "923.5791         1\n",
       "19495.6500       1\n",
       "12771.9900       1\n",
       "642.8111         1\n",
       "4920.8290        1\n",
       "              ... \n",
       "11526.2700       8\n",
       "23052.5300      10\n",
       "2365.8400       25\n",
       "0.0000        2172\n",
       "25564.6700    4145\n",
       "Name: Earnings_1978, Length: 7243, dtype: int64"
      ]
     },
     "metadata": {},
     "execution_count": 97
    }
   ],
   "metadata": {}
  },
  {
   "cell_type": "markdown",
   "source": [
    "\tWhat is one conclusion could you draw from visualizing of the earnings in the different year? \r\n",
    "The distribution is the same over the years. There are lots of people that are making $0 and there are lots of people making $25,000. They've got around making $0 and 3052, people making just over 3000 making $25,000. It's odd because its like there is a quota that they need a specific number of people to make a specific amount. Unless they just have around 20 people in each role for the middle salaries. There are lots of people that are making $0 and there are lots of people making $25,000. They might have had 2000 unpaid interns. "
   ],
   "metadata": {}
  },
  {
   "cell_type": "code",
   "execution_count": 98,
   "source": [
    "print(\"Black:\", thinkstats2.CohenEffectSize(black[\"Earnings_1978\"], not_black[\"Earnings_1978\"]))\r\n",
    "print(\"Hisp: \", thinkstats2.CohenEffectSize(hisp[\"Earnings_1978\"], not_hisp[\"Earnings_1978\"]))\r\n",
    "print(\"Married: \", thinkstats2.CohenEffectSize(married[\"Earnings_1978\"], single[\"Earnings_1978\"]))\r\n",
    "print(\"Degree: \", thinkstats2.CohenEffectSize(degree[\"Earnings_1978\"], no_degree[\"Earnings_1978\"]))"
   ],
   "outputs": [
    {
     "output_type": "stream",
     "name": "stdout",
     "text": [
      "Black: -0.31883255859070525\n",
      "Hisp:  -0.16210284395555566\n",
      "Married:  0.5737396692403472\n",
      "Degree:  0.3367928897615812\n"
     ]
    }
   ],
   "metadata": {}
  },
  {
   "cell_type": "markdown",
   "source": [
    "o\tWhich has the greatest effect size on 1978 earnings?\r\n",
    "Marital Status has the biggest effect on 1978 earnings. These people are also have the youngest mean. They probably would not have a family to support so they wouldn't have to make as much. They also could just be working part time. You can look a at the means and medians of each category to dig deeper, as I did below."
   ],
   "metadata": {}
  },
  {
   "cell_type": "code",
   "execution_count": 99,
   "source": [
    "#Looking at Means\r\n",
    "print(\"Black Mean: \", black.mean())\r\n",
    "print(\"Hispanic Mean: \", hisp.mean())\r\n",
    "print(\"Single Mean: \", single.mean())\r\n",
    "print(\"High School Education Mean: \", df[df[\"Eduacation\"] == \"HighSchool\"].mean())\r\n",
    "print(\"Have a Degree: \", degree.mean())"
   ],
   "outputs": [
    {
     "output_type": "stream",
     "name": "stdout",
     "text": [
      "Black Mean:  Age                 32.664116\n",
      "Nodeg                0.433673\n",
      "Earnings_1974    11426.576987\n",
      "Earnings_1975    10941.064806\n",
      "Earnings_1978    12006.682951\n",
      "dtype: float64\n",
      "Hispanic Mean:  Age                 33.065104\n",
      "Nodeg                0.535590\n",
      "Earnings_1974    12401.663826\n",
      "Earnings_1975    12289.613541\n",
      "Earnings_1978    13396.677888\n",
      "dtype: float64\n",
      "Single Mean:  Age                 25.591974\n",
      "Nodeg                0.345553\n",
      "Earnings_1974     7681.534905\n",
      "Earnings_1975     7899.741012\n",
      "Earnings_1978    11033.720550\n",
      "dtype: float64\n",
      "High School Education Mean:  Age                 33.349808\n",
      "Nodeg                0.000000\n",
      "Earnings_1974    15293.506030\n",
      "Earnings_1975    14715.210287\n",
      "Earnings_1978    15548.593561\n",
      "dtype: float64\n",
      "Have a Degree:  Age                 32.850280\n",
      "Nodeg                0.000000\n",
      "Earnings_1974    15032.593755\n",
      "Earnings_1975    14710.629182\n",
      "Earnings_1978    15796.747484\n",
      "dtype: float64\n"
     ]
    }
   ],
   "metadata": {}
  },
  {
   "cell_type": "code",
   "execution_count": 100,
   "source": [
    "#Looking at medians\r\n",
    "print(\"Black Mean: \", black.median())\r\n",
    "print(\"Hispanic Mean: \", hisp.median())\r\n",
    "print(\"Single Mean: \", single.median())\r\n",
    "print(\"High School Education Mean: \", df[df[\"Eduacation\"] == \"HighSchool\"].median())\r\n",
    "print(\"Have a Degree: \", degree.median())"
   ],
   "outputs": [
    {
     "output_type": "stream",
     "name": "stdout",
     "text": [
      "Black Mean:  Age                 31.000\n",
      "Nodeg                0.000\n",
      "Earnings_1974    11079.650\n",
      "Earnings_1975    10845.775\n",
      "Earnings_1978    12115.880\n",
      "dtype: float64\n",
      "Hispanic Mean:  Age                 32.000\n",
      "Nodeg                1.000\n",
      "Earnings_1974    12668.615\n",
      "Earnings_1975    12378.290\n",
      "Earnings_1978    13717.740\n",
      "dtype: float64\n",
      "Single Mean:  Age                22.0000\n",
      "Nodeg               0.0000\n",
      "Earnings_1974    4325.0815\n",
      "Earnings_1975    4950.2420\n",
      "Earnings_1978    9982.0430\n",
      "dtype: float64\n",
      "High School Education Mean:  Age                 32.000\n",
      "Nodeg                0.000\n",
      "Earnings_1974    16902.590\n",
      "Earnings_1975    15991.160\n",
      "Earnings_1978    17840.595\n",
      "dtype: float64\n",
      "Have a Degree:  Age                 31.00\n",
      "Nodeg                0.00\n",
      "Earnings_1974    16741.93\n",
      "Earnings_1975    16410.10\n",
      "Earnings_1978    18693.24\n",
      "dtype: float64\n"
     ]
    }
   ],
   "metadata": {}
  },
  {
   "cell_type": "code",
   "execution_count": 101,
   "source": [
    "#Make a histogram and PMF\r\n",
    "sns.distplot(df[\"Earnings_1978\"], kde_kws={\"label\":\"Value\"}, hist_kws={\"label\":\"Value\"}, color=\"purple\")\r\n",
    "pmf = thinkstats2.Pmf(\"Earnings_1978\")"
   ],
   "outputs": [
    {
     "output_type": "stream",
     "name": "stderr",
     "text": [
      "C:\\Users\\allyr\\anaconda3\\lib\\site-packages\\seaborn\\distributions.py:2557: FutureWarning: `distplot` is a deprecated function and will be removed in a future version. Please adapt your code to use either `displot` (a figure-level function with similar flexibility) or `histplot` (an axes-level function for histograms).\n",
      "  warnings.warn(msg, FutureWarning)\n"
     ]
    },
    {
     "output_type": "display_data",
     "data": {
      "image/png": "[encoded data removed]",
      "text/plain": [
       "<Figure size 432x288 with 1 Axes>"
      ]
     },
     "metadata": {
      "needs_background": "light"
     }
    }
   ],
   "metadata": {}
  },
  {
   "cell_type": "code",
   "execution_count": 109,
   "source": [
    "race = df[\"Race\"]\r\n",
    "hisp = df[\"Hisp\"]\r\n",
    "ms = df[\"MaritalStatus\"]"
   ],
   "outputs": [],
   "metadata": {}
  },
  {
   "cell_type": "code",
   "execution_count": 103,
   "source": [
    "earn78 = df[\"Earnings_1978\"]\r\n",
    "thinkplot.PrePlot(2, cols=2)\r\n",
    "pmf = thinkstats2.Pmf(earn78)\r\n",
    "thinkplot.Pmf(pmf)\r\n",
    "thinkplot.Config()"
   ],
   "outputs": [
    {
     "output_type": "display_data",
     "data": {
      "image/png": "[encoded data removed]",
      "text/plain": [
       "<Figure size 864x432 with 1 Axes>"
      ]
     },
     "metadata": {
      "needs_background": "light"
     }
    }
   ],
   "metadata": {}
  },
  {
   "cell_type": "code",
   "execution_count": 104,
   "source": [
    "def cohort(df, race, hisp, ms, earn78):\r\n",
    " df[\"Cohort\"] = (df[\"Race\"]+df[\"Hisp\"]+df[\"MaritalStatus\"])\r\n",
    "\r\n",
    " cohortList = df[\"Cohort\"].unique()\r\n",
    " i = 0\r\n",
    " resList = []\r\n",
    " lowest = -1\r\n",
    "\r\n",
    " while i < cohortList.size:\r\n",
    "    tmp = df[df.Cohort == cohortList[i]]\r\n",
    "    cohortMed = np.median(pd.to_numeric(tmp[\"Earnings_1978\"]))\r\n",
    "    tmpTuple = (cohortList[i], cohortMed)\r\n",
    "    resList.append(tmpTuple)\r\n",
    "    if ((cohortMed < lowest) | (lowest == -1)):\r\n",
    "        lowest = cohortMed\r\n",
    "    i = i + 1\r\n",
    " return lowest\r\n"
   ],
   "outputs": [],
   "metadata": {}
  },
  {
   "cell_type": "code",
   "execution_count": 110,
   "source": [
    "#Hispanic vs. Not Hispanic impact on Earnings_1978\r\n",
    "sns.distplot(hispanic[\"Earnings_1978\"], kde_kws={\"label\":\"Value\"}, hist_kws={\"label\":\"Value\"}, color=\"green\")\r\n",
    "sns.distplot(not_hisp[\"Earnings_1978\"], kde_kws={\"label\":\"Value\"}, hist_kws={\"label\":\"Value\"}, color=\"blue\", label=\"Not Black\")"
   ],
   "outputs": [
    {
     "output_type": "stream",
     "name": "stderr",
     "text": [
      "C:\\Users\\allyr\\anaconda3\\lib\\site-packages\\seaborn\\distributions.py:2557: FutureWarning: `distplot` is a deprecated function and will be removed in a future version. Please adapt your code to use either `displot` (a figure-level function with similar flexibility) or `histplot` (an axes-level function for histograms).\n",
      "  warnings.warn(msg, FutureWarning)\n",
      "C:\\Users\\allyr\\anaconda3\\lib\\site-packages\\seaborn\\distributions.py:2557: FutureWarning: `distplot` is a deprecated function and will be removed in a future version. Please adapt your code to use either `displot` (a figure-level function with similar flexibility) or `histplot` (an axes-level function for histograms).\n",
      "  warnings.warn(msg, FutureWarning)\n"
     ]
    },
    {
     "output_type": "execute_result",
     "data": {
      "text/plain": [
       "<AxesSubplot:xlabel='Earnings_1978', ylabel='Density'>"
      ]
     },
     "metadata": {},
     "execution_count": 110
    },
    {
     "output_type": "display_data",
     "data": {
      "image/png": "[encoded data removed]",
      "text/plain": [
       "<Figure size 432x288 with 1 Axes>"
      ]
     },
     "metadata": {
      "needs_background": "light"
     }
    }
   ],
   "metadata": {}
  },
  {
   "cell_type": "code",
   "execution_count": null,
   "source": [
    "#Black vs. Not Black impact on Earnings_1978\r\n",
    "sns.distplot(black[\"Earnings_1978\"], kde_kws={\"label\":\"Value\"}, hist_kws={\"label\":\"Value\"}, color=\"green\")\r\n",
    "sns.distplot(not_black[\"Earnings_1978\"], kde_kws={\"label\":\"Value\"}, hist_kws={\"label\":\"Value\"}, color=\"blue\", label=\"Not Black\")"
   ],
   "outputs": [
    {
     "output_type": "stream",
     "name": "stderr",
     "text": [
      "C:\\Users\\allyr\\anaconda3\\lib\\site-packages\\seaborn\\distributions.py:2557: FutureWarning: `distplot` is a deprecated function and will be removed in a future version. Please adapt your code to use either `displot` (a figure-level function with similar flexibility) or `histplot` (an axes-level function for histograms).\n",
      "  warnings.warn(msg, FutureWarning)\n",
      "C:\\Users\\allyr\\anaconda3\\lib\\site-packages\\seaborn\\distributions.py:2557: FutureWarning: `distplot` is a deprecated function and will be removed in a future version. Please adapt your code to use either `displot` (a figure-level function with similar flexibility) or `histplot` (an axes-level function for histograms).\n",
      "  warnings.warn(msg, FutureWarning)\n"
     ]
    },
    {
     "output_type": "execute_result",
     "data": {
      "text/plain": [
       "<AxesSubplot:xlabel='Earnings_1978', ylabel='Density'>"
      ]
     },
     "metadata": {},
     "execution_count": 69
    },
    {
     "output_type": "display_data",
     "data": {
      "image/png": "[encoded data removed]",
      "text/plain": [
       "<Figure size 432x288 with 1 Axes>"
      ]
     },
     "metadata": {
      "needs_background": "light"
     }
    }
   ],
   "metadata": {}
  },
  {
   "cell_type": "code",
   "execution_count": null,
   "source": [
    "#Single vs. Married impact on Earnings_1978\r\n",
    "sns.distplot(single[\"Earnings_1978\"], kde_kws={\"label\":\"Value\"}, hist_kws={\"label\":\"Value\"}, color=\"green\")\r\n",
    "sns.distplot(married[\"Earnings_1978\"], kde_kws={\"label\":\"Value\"}, hist_kws={\"label\":\"Value\"}, color=\"blue\", label=\"Not Black\")"
   ],
   "outputs": [
    {
     "output_type": "stream",
     "name": "stderr",
     "text": [
      "C:\\Users\\allyr\\anaconda3\\lib\\site-packages\\seaborn\\distributions.py:2557: FutureWarning: `distplot` is a deprecated function and will be removed in a future version. Please adapt your code to use either `displot` (a figure-level function with similar flexibility) or `histplot` (an axes-level function for histograms).\n",
      "  warnings.warn(msg, FutureWarning)\n",
      "C:\\Users\\allyr\\anaconda3\\lib\\site-packages\\seaborn\\distributions.py:2557: FutureWarning: `distplot` is a deprecated function and will be removed in a future version. Please adapt your code to use either `displot` (a figure-level function with similar flexibility) or `histplot` (an axes-level function for histograms).\n",
      "  warnings.warn(msg, FutureWarning)\n"
     ]
    },
    {
     "output_type": "execute_result",
     "data": {
      "text/plain": [
       "<AxesSubplot:xlabel='Earnings_1978', ylabel='Density'>"
      ]
     },
     "metadata": {},
     "execution_count": 73
    },
    {
     "output_type": "display_data",
     "data": {
      "image/png": "[encoded data removed]",
      "text/plain": [
       "<Figure size 432x288 with 1 Axes>"
      ]
     },
     "metadata": {
      "needs_background": "light"
     }
    }
   ],
   "metadata": {}
  }
 ],
 "metadata": {
  "orig_nbformat": 4,
  "language_info": {
   "name": "python",
   "version": "3.8.8",
   "mimetype": "text/x-python",
   "codemirror_mode": {
    "name": "ipython",
    "version": 3
   },
   "pygments_lexer": "ipython3",
   "nbconvert_exporter": "python",
   "file_extension": ".py"
  },
  "kernelspec": {
   "name": "python3",
   "display_name": "Python 3.8.8 64-bit ('base': conda)"
  },
  "interpreter": {
   "hash": "e1ba64b7a303d119649d0ae0356050bbb0c08b2db5c9a78a25e31cde0b395fad"
  }
 },
 "nbformat": 4,
 "nbformat_minor": 2
}